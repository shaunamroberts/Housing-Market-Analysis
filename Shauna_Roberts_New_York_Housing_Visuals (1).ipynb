{
  "metadata": {
    "kernelspec": {
      "language": "python",
      "display_name": "Python 3",
      "name": "python3"
    },
    "language_info": {
      "name": "python",
      "version": "3.10.12",
      "mimetype": "text/x-python",
      "codemirror_mode": {
        "name": "ipython",
        "version": 3
      },
      "pygments_lexer": "ipython3",
      "nbconvert_exporter": "python",
      "file_extension": ".py"
    },
    "kaggle": {
      "accelerator": "none",
      "dataSources": [
        {
          "sourceId": 7351086,
          "sourceType": "datasetVersion",
          "datasetId": 4269029
        }
      ],
      "dockerImageVersionId": 30635,
      "isInternetEnabled": true,
      "language": "python",
      "sourceType": "notebook",
      "isGpuEnabled": false
    },
    "colab": {
      "provenance": []
    }
  },
  "nbformat_minor": 0,
  "nbformat": 4,
  "cells": [
    {
      "source": [
        "# IMPORTANT: RUN THIS CELL IN ORDER TO IMPORT YOUR KAGGLE DATA SOURCES,\n",
        "# THEN FEEL FREE TO DELETE THIS CELL.\n",
        "# NOTE: THIS NOTEBOOK ENVIRONMENT DIFFERS FROM KAGGLE'S PYTHON\n",
        "# ENVIRONMENT SO THERE MAY BE MISSING LIBRARIES USED BY YOUR\n",
        "# NOTEBOOK.\n",
        "import kagglehub\n",
        "nelgiriyewithana_new_york_housing_market_path = kagglehub.dataset_download('nelgiriyewithana/new-york-housing-market')\n",
        "\n",
        "print('Data source import complete.')\n"
      ],
      "metadata": {
        "id": "P7QWPjxVb1Hc"
      },
      "cell_type": "code",
      "outputs": [],
      "execution_count": null
    },
    {
      "cell_type": "code",
      "source": [
        "# This Python 3 environment comes with many helpful analytics libraries installed\n",
        "# It is defined by the kaggle/python Docker image: https://github.com/kaggle/docker-python\n",
        "# For example, here's several helpful packages to load\n",
        "\n",
        "import numpy as np # linear algebra\n",
        "import pandas as pd # data processing, CSV file I/O (e.g. pd.read_csv)\n",
        "\n",
        "# Input data files are available in the read-only \"../input/\" directory\n",
        "# For example, running this (by clicking run or pressing Shift+Enter) will list all files under the input directory\n",
        "\n",
        "import os\n",
        "for dirname, _, filenames in os.walk('/kaggle/input'):\n",
        "    for filename in filenames:\n",
        "        print(os.path.join(dirname, filename))\n",
        "\n",
        "# You can write up to 20GB to the current directory (/kaggle/working/) that gets preserved as output when you create a version using \"Save & Run All\"\n",
        "# You can also write temporary files to /kaggle/temp/, but they won't be saved outside of the current session"
      ],
      "metadata": {
        "_uuid": "8f2839f25d086af736a60e9eeb907d3b93b6e0e5",
        "_cell_guid": "b1076dfc-b9ad-4769-8c92-a6c4dae69d19",
        "execution": {
          "iopub.status.busy": "2024-01-25T19:47:39.018424Z",
          "iopub.execute_input": "2024-01-25T19:47:39.019027Z",
          "iopub.status.idle": "2024-01-25T19:47:39.027966Z",
          "shell.execute_reply.started": "2024-01-25T19:47:39.019001Z",
          "shell.execute_reply": "2024-01-25T19:47:39.026678Z"
        },
        "trusted": true,
        "id": "nvuh66QXb1He"
      },
      "execution_count": null,
      "outputs": []
    },
    {
      "cell_type": "code",
      "source": [
        "# ------------Import the necessary library\n",
        "import pandas as pd\n",
        "import numpy as np\n",
        "import matplotlib.pyplot as plt\n",
        "import plotly.express as px\n",
        "import seaborn as sns\n",
        "import warnings\n",
        "warnings.filterwarnings('ignore')"
      ],
      "metadata": {
        "execution": {
          "iopub.status.busy": "2024-01-25T19:47:39.030568Z",
          "iopub.execute_input": "2024-01-25T19:47:39.031011Z",
          "iopub.status.idle": "2024-01-25T19:47:39.046303Z",
          "shell.execute_reply.started": "2024-01-25T19:47:39.030977Z",
          "shell.execute_reply": "2024-01-25T19:47:39.045486Z"
        },
        "trusted": true,
        "id": "nbFIYbhYb1He"
      },
      "execution_count": null,
      "outputs": []
    },
    {
      "cell_type": "code",
      "source": [
        "data= pd.read_csv('NY-House-Dataset.csv.zip')\n",
        "\n",
        "data"
      ],
      "metadata": {
        "execution": {
          "iopub.status.busy": "2024-01-25T19:47:39.048694Z",
          "iopub.execute_input": "2024-01-25T19:47:39.049141Z",
          "iopub.status.idle": "2024-01-25T19:47:39.141377Z",
          "shell.execute_reply.started": "2024-01-25T19:47:39.049099Z",
          "shell.execute_reply": "2024-01-25T19:47:39.140189Z"
        },
        "trusted": true,
        "id": "ZdQMmrESb1He"
      },
      "execution_count": null,
      "outputs": []
    },
    {
      "cell_type": "code",
      "source": [
        "data.describe()"
      ],
      "metadata": {
        "execution": {
          "iopub.status.busy": "2024-01-25T19:47:39.142853Z",
          "iopub.execute_input": "2024-01-25T19:47:39.143364Z",
          "iopub.status.idle": "2024-01-25T19:47:39.172144Z",
          "shell.execute_reply.started": "2024-01-25T19:47:39.143336Z",
          "shell.execute_reply": "2024-01-25T19:47:39.171139Z"
        },
        "trusted": true,
        "id": "DkMoBJQvb1He"
      },
      "execution_count": null,
      "outputs": []
    },
    {
      "cell_type": "code",
      "source": [
        "data.isnull().sum()"
      ],
      "metadata": {
        "execution": {
          "iopub.status.busy": "2024-01-25T19:47:39.175336Z",
          "iopub.execute_input": "2024-01-25T19:47:39.176185Z",
          "iopub.status.idle": "2024-01-25T19:47:39.186124Z",
          "shell.execute_reply.started": "2024-01-25T19:47:39.176152Z",
          "shell.execute_reply": "2024-01-25T19:47:39.185101Z"
        },
        "trusted": true,
        "id": "kU8caXY6b1He"
      },
      "execution_count": null,
      "outputs": []
    },
    {
      "cell_type": "code",
      "source": [
        "new_data = data[['TYPE', 'BEDS', 'BATH', 'PROPERTYSQFT', 'ADMINISTRATIVE_AREA_LEVEL_2', 'LOCALITY', 'SUBLOCALITY', 'LATITUDE','LONGITUDE', 'PRICE']]\n",
        "new_data.head()"
      ],
      "metadata": {
        "id": "R17b3xXnnGVG"
      },
      "execution_count": null,
      "outputs": []
    },
    {
      "cell_type": "markdown",
      "source": [
        "**I modified the preexisiting data frame to exclude columns that I thought would have little impact on future analysis, such as Administrative Area level 2**"
      ],
      "metadata": {
        "id": "JIozW815nMeI"
      }
    },
    {
      "cell_type": "code",
      "source": [
        "new_data = data[['TYPE', 'BEDS', 'BATH', 'PROPERTYSQFT', 'ADDRESS',\n",
        "                 'LOCALITY', 'SUBLOCALITY', 'LATITUDE','LONGITUDE', 'PRICE']]\n",
        "new_data.head()"
      ],
      "metadata": {
        "execution": {
          "iopub.status.busy": "2024-01-25T19:47:39.187398Z",
          "iopub.execute_input": "2024-01-25T19:47:39.187992Z",
          "iopub.status.idle": "2024-01-25T19:47:39.210486Z",
          "shell.execute_reply.started": "2024-01-25T19:47:39.187963Z",
          "shell.execute_reply": "2024-01-25T19:47:39.209462Z"
        },
        "trusted": true,
        "id": "zkasEhhnb1Hf"
      },
      "execution_count": null,
      "outputs": []
    },
    {
      "cell_type": "markdown",
      "source": [
        "**I then remove certain attributes within the type column of the new_data dataframe due to relevance and clarification; the attributes that were removed were pending, coming soon, contingent and for sale**"
      ],
      "metadata": {
        "id": "PB7MduFTpGzJ"
      }
    },
    {
      "cell_type": "code",
      "source": [
        "filter_data = new_data[(new_data['TYPE'] == 'Pending') | (new_data['TYPE'] == 'Coming Soon') | (new_data['TYPE'] == 'Contingent')\n",
        "| (new_data['TYPE'] == 'For Sale')]"
      ],
      "metadata": {
        "id": "59GaVYd1BIfk"
      },
      "execution_count": null,
      "outputs": []
    },
    {
      "cell_type": "markdown",
      "source": [
        "**I began to clean up the dataframe by removing any rows that contains null values, and adding it into a new dataframe to make graphing much easier for me in the future**"
      ],
      "metadata": {
        "id": "iMfcngMCpzD_"
      }
    },
    {
      "cell_type": "code",
      "source": [
        "#Shauna Roberts\n",
        "new_data2 = new_data.drop(filter_data.index)"
      ],
      "metadata": {
        "id": "Re324jY1BOtb"
      },
      "execution_count": null,
      "outputs": []
    },
    {
      "cell_type": "markdown",
      "source": [
        "**Ensuring that the necessary attributes within the type column was removed**"
      ],
      "metadata": {
        "id": "Zns2TJUCqUuh"
      }
    },
    {
      "cell_type": "code",
      "source": [
        "new_data2['TYPE'].unique()"
      ],
      "metadata": {
        "id": "LDdjPlGOBTNk"
      },
      "execution_count": null,
      "outputs": []
    },
    {
      "cell_type": "code",
      "source": [
        "new_data2.head()"
      ],
      "metadata": {
        "id": "81CtMZlSCYm1"
      },
      "execution_count": null,
      "outputs": []
    },
    {
      "cell_type": "markdown",
      "source": [
        "**Established the similarities within the localities since many of them were within the same location just under different unnecessary names**"
      ],
      "metadata": {
        "id": "yy89-qQut3an"
      }
    },
    {
      "cell_type": "code",
      "source": [
        "new_data2['LOCALITY'].unique()"
      ],
      "metadata": {
        "id": "_p_4EtEkCgm1"
      },
      "execution_count": null,
      "outputs": []
    },
    {
      "cell_type": "code",
      "source": [
        "#Richmond County = Staten Island\n",
        "#The bronx and the broxn are the same\n",
        "#Flatbush is a neighborhood within kings county, but brooklyn and kings county are the same\n",
        "#New York county = Manhatten\n",
        "#Queens and Queens county are the same\n",
        "#Just left we have United States and New York"
      ],
      "metadata": {
        "id": "HcuzqV8QFYV2"
      },
      "execution_count": null,
      "outputs": []
    },
    {
      "cell_type": "markdown",
      "source": [
        "**Replaced the name of certain locality to narrow down the grouping in the future and to also make the locations more accurate. Also looked into the different sublocailties that were included within the dataframe**"
      ],
      "metadata": {
        "id": "AUdb4yMAuLd6"
      }
    },
    {
      "cell_type": "code",
      "source": [
        "\n",
        "new_data2['LOCALITY'].replace('Richmond County', 'Staten Island', inplace= True)\n",
        "new_data2['LOCALITY'].replace('The Bronx', 'Bronx', inplace= True)\n",
        "new_data2['LOCALITY'].replace('Bronx County', 'Bronx', inplace= True)\n",
        "new_data2['LOCALITY'].replace('Flatbush', 'Brooklyn', inplace= True)\n",
        "new_data2['LOCALITY'].replace('New York County', 'Manhattan', inplace= True)\n",
        "new_data2['LOCALITY'].replace('Queens County', 'Queens', inplace= True)\n",
        "new_data2['LOCALITY'].replace('Kings County', 'Brooklyn', inplace= True)"
      ],
      "metadata": {
        "id": "xdVVHIIOHNnM"
      },
      "execution_count": null,
      "outputs": []
    },
    {
      "cell_type": "code",
      "source": [
        "new_data2['LOCALITY'].unique()"
      ],
      "metadata": {
        "id": "uuRssK63HSq7"
      },
      "execution_count": null,
      "outputs": []
    },
    {
      "cell_type": "code",
      "source": [
        "new_data2['SUBLOCALITY'].unique()"
      ],
      "metadata": {
        "id": "PIVgg-a1Eqsv"
      },
      "execution_count": null,
      "outputs": []
    },
    {
      "cell_type": "code",
      "source": [
        "# -------Install folium for mapping\n",
        "!pip install folium"
      ],
      "metadata": {
        "execution": {
          "iopub.status.busy": "2024-01-25T19:47:39.211851Z",
          "iopub.execute_input": "2024-01-25T19:47:39.21217Z",
          "iopub.status.idle": "2024-01-25T19:47:50.157115Z",
          "shell.execute_reply.started": "2024-01-25T19:47:39.212141Z",
          "shell.execute_reply": "2024-01-25T19:47:50.156209Z"
        },
        "trusted": true,
        "id": "QyZr-MHWb1Hf"
      },
      "execution_count": null,
      "outputs": []
    },
    {
      "cell_type": "code",
      "source": [
        "import folium\n",
        "\n",
        "#Create a map centered at an average location\n",
        "#avg_lat = new_data['LATITUDE'].mean()\n",
        "#avg_lon = new_data['LONGITUDE'].mean()\n",
        "#my_map = folium.Map(location=[avg_lat, avg_lon], zoom_start=4)\n",
        "\n",
        "# Add markers for each location\n",
        "#for index, row in new_data.iterrows():\n",
        " #   folium.Marker(location=[row['LATITUDE'], row['LONGITUDE']], popup=row['LOCALITY']).add_to(my_map)\n",
        "\n",
        "#display(my_map)"
      ],
      "metadata": {
        "execution": {
          "iopub.status.busy": "2024-01-25T19:47:50.158294Z",
          "iopub.execute_input": "2024-01-25T19:47:50.158639Z",
          "iopub.status.idle": "2024-01-25T19:47:56.134732Z",
          "shell.execute_reply.started": "2024-01-25T19:47:50.15861Z",
          "shell.execute_reply": "2024-01-25T19:47:56.133833Z"
        },
        "trusted": true,
        "id": "XV-X4k86b1Hf"
      },
      "execution_count": null,
      "outputs": []
    },
    {
      "cell_type": "markdown",
      "source": [
        "**Edited the default viewing of the map to show all the available housing units within brooklyn since that is my area of interest rather than showing the whole map of the USA: more zoomed in, in-comparison to the orginal map**"
      ],
      "metadata": {
        "id": "ps3Eg6pOu55d"
      }
    },
    {
      "cell_type": "code",
      "source": [
        "#Shauna Roberts\n",
        "import folium\n",
        "\n",
        "#Create a map to show the whole map of brooklyn rather than the whole united States\n",
        "my_map = folium.Map(location=[40.6782, -73.9442], zoom_start=12)\n",
        "\n",
        "#Add markers for each location\n",
        "for index, row in new_data2.iterrows():\n",
        "    folium.Marker(location=[row['LATITUDE'], row['LONGITUDE']], popup=row['LOCALITY']).add_to(my_map)\n",
        "\n",
        "display(my_map)"
      ],
      "metadata": {
        "id": "Zj9hdDe-LEZj"
      },
      "execution_count": null,
      "outputs": []
    },
    {
      "cell_type": "code",
      "source": [
        "# ----A bar plot of the average price by locality\n",
        "#Shauna Roberts edited (avg_price_loc = new_data2.groupby) ...\n",
        "avg_price_loc= new_data2.groupby('LOCALITY')['PRICE'].mean().reset_index()\n",
        "fig = px.bar(avg_price_loc, x= \"LOCALITY\", y= \"PRICE\", color= \"PRICE\", title= \"Average Price per Locality\")\n",
        "fig.show()"
      ],
      "metadata": {
        "execution": {
          "iopub.status.busy": "2024-01-25T19:47:56.13597Z",
          "iopub.execute_input": "2024-01-25T19:47:56.13678Z",
          "iopub.status.idle": "2024-01-25T19:47:57.652263Z",
          "shell.execute_reply.started": "2024-01-25T19:47:56.136746Z",
          "shell.execute_reply": "2024-01-25T19:47:57.651229Z"
        },
        "trusted": true,
        "id": "zDcrp8n7b1Hf"
      },
      "execution_count": null,
      "outputs": []
    },
    {
      "cell_type": "markdown",
      "source": [
        "**Adjustments to  the visulaization aspect of the data was made. Removed color=\"PRICE\" because it had no impact to the graph since the Y axis already marked the price points**"
      ],
      "metadata": {
        "id": "cZUrk9gqv5S3"
      }
    },
    {
      "cell_type": "code",
      "source": [
        "avg_price_locaility = new_data2.groupby('LOCALITY')['PRICE'].mean().reset_index()\n",
        "fig = px.bar(avg_price_locaility, x= \"LOCALITY\", y= \"PRICE\", title= \"Average Price per Locality\")\n",
        "fig.show()"
      ],
      "metadata": {
        "id": "GhOdK5s8N7Jg"
      },
      "execution_count": null,
      "outputs": []
    },
    {
      "cell_type": "code",
      "source": [
        "# Average Price per Property type\n",
        "prop_price= new_data.groupby('TYPE')['PRICE'].mean().reset_index()\n",
        "fig = px.bar(prop_price, x='TYPE', y='PRICE', color='PRICE',title='Plot of the Property Type By Average Price ')\n",
        "fig.show()"
      ],
      "metadata": {
        "execution": {
          "iopub.status.busy": "2024-01-25T19:47:57.663369Z",
          "iopub.execute_input": "2024-01-25T19:47:57.663699Z",
          "iopub.status.idle": "2024-01-25T19:47:57.733739Z",
          "shell.execute_reply.started": "2024-01-25T19:47:57.663667Z",
          "shell.execute_reply": "2024-01-25T19:47:57.732848Z"
        },
        "trusted": true,
        "id": "qKs6H3dub1Hf"
      },
      "execution_count": null,
      "outputs": []
    },
    {
      "cell_type": "markdown",
      "source": [
        "**A similar approach was made towards the graph that showed the average price of the different properties. In addition to removing the color=PRICE we now only have meaningful attributes in the X axis**"
      ],
      "metadata": {
        "id": "yCnGBgcHx6X-"
      }
    },
    {
      "cell_type": "code",
      "source": [
        "prop_price= new_data2.groupby('TYPE')['PRICE'].mean().reset_index()\n",
        "fig = px.bar(prop_price, x='TYPE', y='PRICE', title='Plot of the Property Type By Average Price ')\n",
        "fig.show()"
      ],
      "metadata": {
        "id": "INIPJIu6phaz"
      },
      "execution_count": null,
      "outputs": []
    },
    {
      "cell_type": "code",
      "source": [
        "nums= new_data[['PRICE', 'BEDS', 'BATH', 'PROPERTYSQFT']]\n",
        "nums.head()"
      ],
      "metadata": {
        "execution": {
          "iopub.status.busy": "2024-01-25T19:47:57.734879Z",
          "iopub.execute_input": "2024-01-25T19:47:57.73512Z",
          "iopub.status.idle": "2024-01-25T19:47:57.746747Z",
          "shell.execute_reply.started": "2024-01-25T19:47:57.735098Z",
          "shell.execute_reply": "2024-01-25T19:47:57.745701Z"
        },
        "trusted": true,
        "id": "7N_scmarb1Hf"
      },
      "execution_count": null,
      "outputs": []
    },
    {
      "cell_type": "markdown",
      "source": [
        "**made sure the variable nums was retriving the attributes from the correct dataframe and finding the mean of each attribute and rounding to the nearest whole number**"
      ],
      "metadata": {
        "id": "Rjb7lS79JbQw"
      }
    },
    {
      "cell_type": "code",
      "source": [
        "nums = new_data2[['PRICE', 'BEDS', 'BATH', 'PROPERTYSQFT']].mean().round(0)\n",
        "nums.head()"
      ],
      "metadata": {
        "id": "bp1JOovess2q"
      },
      "execution_count": null,
      "outputs": []
    },
    {
      "cell_type": "code",
      "source": [
        "nums2 = new_data2[['PRICE', 'BEDS', 'BATH', 'PROPERTYSQFT']]\n",
        "nums2.head()"
      ],
      "metadata": {
        "id": "6H2cNpJxcFxr"
      },
      "execution_count": null,
      "outputs": []
    },
    {
      "cell_type": "code",
      "source": [
        "# Is there a relationship between Property Square feet and Price\n",
        "\n",
        "fig= px.scatter(data_frame=nums, x='PROPERTYSQFT', y='PRICE' ,title = f\"Relatonship Btw Property size and Price is {(nums['PROPERTYSQFT'].corr(nums['PRICE']).round(2) * 100)}%\", color = 'PRICE')\n",
        "fig.show()"
      ],
      "metadata": {
        "execution": {
          "iopub.status.busy": "2024-01-25T19:47:57.75069Z",
          "iopub.execute_input": "2024-01-25T19:47:57.750957Z",
          "iopub.status.idle": "2024-01-25T19:47:57.840749Z",
          "shell.execute_reply.started": "2024-01-25T19:47:57.750933Z",
          "shell.execute_reply": "2024-01-25T19:47:57.839868Z"
        },
        "trusted": true,
        "id": "Ueo9rIWob1Hg"
      },
      "execution_count": null,
      "outputs": []
    },
    {
      "cell_type": "markdown",
      "source": [
        "**In order to remove the outliers from the graph, we first import the necessary libraries. Then convert the columns in the num2 table into a numeric data type. We then calculate the z scores and filter our data based on the Z-score since a z score of 3 or more is considered to be an outlier. Then we caculate the correlation between the property's square foot and its price and then plot the relationship**"
      ],
      "metadata": {
        "id": "lCm-6f8NLkVa"
      }
    },
    {
      "cell_type": "code",
      "source": [
        "from scipy import stats\n",
        "import plotly.express as px"
      ],
      "metadata": {
        "id": "geqkOvUW4VlE"
      },
      "execution_count": null,
      "outputs": []
    },
    {
      "cell_type": "code",
      "source": [
        "nums2 = nums2.apply(pd.to_numeric, errors='coerce')\n",
        "nums2=nums2.dropna()"
      ],
      "metadata": {
        "id": "QaYcOoCS4dYg"
      },
      "execution_count": null,
      "outputs": []
    },
    {
      "cell_type": "code",
      "source": [
        "z_scores = np.abs(stats.zscore(nums2))\n",
        "filtered_nums2 = nums2[(z_scores <3).all(axis=1)]"
      ],
      "metadata": {
        "id": "DsEwsbgm4sGt"
      },
      "execution_count": null,
      "outputs": []
    },
    {
      "cell_type": "code",
      "source": [
        "correlation = filtered_nums2['PROPERTYSQFT'].corr(filtered_nums2['PRICE']).round(2) * 100"
      ],
      "metadata": {
        "id": "_xkDWOil7BpX"
      },
      "execution_count": null,
      "outputs": []
    },
    {
      "cell_type": "code",
      "source": [
        "fig = px.scatter(data_frame=filtered_nums2, x='PROPERTYSQFT', y='PRICE',\n",
        "                 title=f\"Relatonship Between Property size and Price is {correlation}%\")\n",
        "fig.show()"
      ],
      "metadata": {
        "id": "zjM5_yvd7EnS"
      },
      "execution_count": null,
      "outputs": []
    },
    {
      "cell_type": "code",
      "source": [
        "# Is there a relationship between number of beds and Price\n",
        "\n",
        "fig= px.scatter(data_frame=nums, x='PRICE', y='BEDS' ,\n",
        "                title = f\"Relatonship Between Beds and Price is {(nums['BEDS'].corr(nums['PRICE']).round(2) * 100)}%\", color = 'PRICE')\n",
        "fig.show()"
      ],
      "metadata": {
        "execution": {
          "iopub.status.busy": "2024-01-25T19:47:57.841855Z",
          "iopub.execute_input": "2024-01-25T19:47:57.84226Z",
          "iopub.status.idle": "2024-01-25T19:47:57.901126Z",
          "shell.execute_reply.started": "2024-01-25T19:47:57.842224Z",
          "shell.execute_reply": "2024-01-25T19:47:57.900461Z"
        },
        "trusted": true,
        "id": "CRSqDuJdb1Hg"
      },
      "execution_count": null,
      "outputs": []
    },
    {
      "cell_type": "markdown",
      "source": [
        "**Continued to remove the outliers from the following graphs, but decided not to work on the graph describing the relationship between sales and profit because it has no significance to my analysis**"
      ],
      "metadata": {
        "id": "x-08AaTxPzUa"
      }
    },
    {
      "cell_type": "code",
      "source": [
        "correlation2 = filtered_nums2['PRICE'].corr(filtered_nums2['BEDS']).round(2) * 100"
      ],
      "metadata": {
        "id": "Ip4Atd0A-9VA"
      },
      "execution_count": null,
      "outputs": []
    },
    {
      "cell_type": "code",
      "source": [
        "fig = px.scatter(data_frame=filtered_nums2, x='PRICE', y='BEDS',\n",
        "                 title=f\"Relatonship Between PRICE and BEDS is {correlation}%\")\n",
        "fig.show()"
      ],
      "metadata": {
        "id": "wv9lIkVf_JKI"
      },
      "execution_count": null,
      "outputs": []
    },
    {
      "cell_type": "code",
      "source": [
        "# Is there a relationship between number of beds and Property size?\n",
        "\n",
        "fig= px.scatter(data_frame=nums, x='PROPERTYSQFT', y='BEDS' ,\n",
        "                title = f\"Relatonship Btw Sales and Profit is {(nums['PROPERTYSQFT'].corr(nums['BEDS']).round(2) * 100)}%\", color = 'BEDS')\n",
        "fig.show()"
      ],
      "metadata": {
        "execution": {
          "iopub.status.busy": "2024-01-25T19:47:57.902224Z",
          "iopub.execute_input": "2024-01-25T19:47:57.902577Z",
          "iopub.status.idle": "2024-01-25T19:47:57.959592Z",
          "shell.execute_reply.started": "2024-01-25T19:47:57.90255Z",
          "shell.execute_reply": "2024-01-25T19:47:57.958475Z"
        },
        "trusted": true,
        "id": "mTrlL2jhb1Hg"
      },
      "execution_count": null,
      "outputs": []
    },
    {
      "cell_type": "code",
      "source": [
        "# --------using countplots in exploring the categorical columns\n",
        "cat_col= new_data.select_dtypes(exclude= 'number')\n",
        "cat_col.head()"
      ],
      "metadata": {
        "execution": {
          "iopub.status.busy": "2024-01-25T19:47:57.961091Z",
          "iopub.execute_input": "2024-01-25T19:47:57.961469Z",
          "iopub.status.idle": "2024-01-25T19:47:57.973034Z",
          "shell.execute_reply.started": "2024-01-25T19:47:57.961434Z",
          "shell.execute_reply": "2024-01-25T19:47:57.972355Z"
        },
        "trusted": true,
        "id": "PjTE94sub1Hg"
      },
      "execution_count": null,
      "outputs": []
    },
    {
      "cell_type": "code",
      "source": [
        "cat_col= new_data2.select_dtypes(exclude= 'number')\n",
        "cat_col.head()"
      ],
      "metadata": {
        "id": "G3Fjync3B9th"
      },
      "execution_count": null,
      "outputs": []
    },
    {
      "cell_type": "code",
      "source": [
        "# ----Countplot of the Type of property\n",
        "plt.figure(figsize= (20, 8))\n",
        "sns.countplot(x = cat_col.TYPE, palette = 'husl')\n",
        "plt.title(f'Countplot of Type of Property')"
      ],
      "metadata": {
        "execution": {
          "iopub.status.busy": "2024-01-25T19:47:57.974335Z",
          "iopub.execute_input": "2024-01-25T19:47:57.974822Z",
          "iopub.status.idle": "2024-01-25T19:47:58.367801Z",
          "shell.execute_reply.started": "2024-01-25T19:47:57.974791Z",
          "shell.execute_reply": "2024-01-25T19:47:58.366836Z"
        },
        "trusted": true,
        "id": "U5PKR6bab1Hg"
      },
      "execution_count": null,
      "outputs": []
    },
    {
      "cell_type": "code",
      "source": [
        "# ----Countplot of the Type of Locality\n",
        "plt.figure(figsize= (20, 8))\n",
        "sns.countplot(x = cat_col.LOCALITY, palette = 'rainbow')\n",
        "plt.title(f'Countplot of Locality of Property')"
      ],
      "metadata": {
        "execution": {
          "iopub.status.busy": "2024-01-25T19:47:58.369264Z",
          "iopub.execute_input": "2024-01-25T19:47:58.370095Z",
          "iopub.status.idle": "2024-01-25T19:47:58.683185Z",
          "shell.execute_reply.started": "2024-01-25T19:47:58.370068Z",
          "shell.execute_reply": "2024-01-25T19:47:58.682194Z"
        },
        "trusted": true,
        "id": "DiQGDUxrb1Hg"
      },
      "execution_count": null,
      "outputs": []
    },
    {
      "cell_type": "code",
      "source": [
        "import matplotlib.pyplot as plt"
      ],
      "metadata": {
        "id": "mXckmmCtE3Y4"
      },
      "execution_count": null,
      "outputs": []
    },
    {
      "cell_type": "code",
      "source": [
        "# ----Countplot of the Type of Locality\n",
        "plt.figure(figsize= (25, 8))\n",
        "sns.countplot(x = cat_col.SUBLOCALITY, palette = 'BuPu')\n",
        "plt.title(f'Countplot of Sublocality of the property')"
      ],
      "metadata": {
        "id": "Zt2JO9keFb8j"
      },
      "execution_count": null,
      "outputs": []
    },
    {
      "cell_type": "markdown",
      "source": [
        "**For visulatization purposes the we rotated the sublocality on the x axis so it can be read easily**"
      ],
      "metadata": {
        "id": "8o4dPV7cStSK"
      }
    },
    {
      "cell_type": "code",
      "source": [
        "# ----Countplot of the Type of Locality\n",
        "plt.figure(figsize= (25, 8))\n",
        "sns.countplot(x = cat_col.SUBLOCALITY, palette = 'BuPu')\n",
        "plt.title(f'Countplot of Sublocality of the property')\n",
        "plt.xticks(rotation=90)\n",
        "plt.show()"
      ],
      "metadata": {
        "execution": {
          "iopub.status.busy": "2024-01-25T19:47:58.684816Z",
          "iopub.execute_input": "2024-01-25T19:47:58.685217Z",
          "iopub.status.idle": "2024-01-25T19:47:59.056473Z",
          "shell.execute_reply.started": "2024-01-25T19:47:58.685175Z",
          "shell.execute_reply": "2024-01-25T19:47:59.055469Z"
        },
        "trusted": true,
        "id": "Wtc10CLwb1Hg"
      },
      "execution_count": null,
      "outputs": []
    },
    {
      "cell_type": "code",
      "source": [
        "new_data.head()"
      ],
      "metadata": {
        "execution": {
          "iopub.status.busy": "2024-01-25T19:47:59.057952Z",
          "iopub.execute_input": "2024-01-25T19:47:59.058269Z",
          "iopub.status.idle": "2024-01-25T19:47:59.073897Z",
          "shell.execute_reply.started": "2024-01-25T19:47:59.05824Z",
          "shell.execute_reply": "2024-01-25T19:47:59.072558Z"
        },
        "trusted": true,
        "id": "BGs5VQAGb1Hg"
      },
      "execution_count": null,
      "outputs": []
    },
    {
      "cell_type": "code",
      "source": [
        "#-----Using Line plot to understand the prices and the property size\n",
        "avg_temp_years= new_data.groupby('PROPERTYSQFT')['PRICE'].sum().reset_index()\n",
        "fig = px.line(new_data, x= \"PROPERTYSQFT\", y= \"PRICE\", color= \"PROPERTYSQFT\", markers= True, title= \"Total Prices by Property square feet\")\n",
        "fig.show()"
      ],
      "metadata": {
        "execution": {
          "iopub.status.busy": "2024-01-25T19:47:59.075526Z",
          "iopub.execute_input": "2024-01-25T19:47:59.075807Z",
          "iopub.status.idle": "2024-01-25T19:48:03.596536Z",
          "shell.execute_reply.started": "2024-01-25T19:47:59.075782Z",
          "shell.execute_reply": "2024-01-25T19:48:03.595612Z"
        },
        "trusted": true,
        "id": "-cO0-vfbb1Hg"
      },
      "execution_count": null,
      "outputs": []
    },
    {
      "cell_type": "code",
      "source": [
        "#-----Using Line plot to understand the prices and the property size\n",
        "avg_temp_years= new_data2.groupby('PROPERTYSQFT')['PRICE'].sum().reset_index()\n",
        "fig = px.line(new_data2, x= \"PROPERTYSQFT\", y= \"PRICE\", color= \"PROPERTYSQFT\", markers= True, title= \"Total Prices by Property square feet\")\n",
        "fig.show()"
      ],
      "metadata": {
        "id": "QoGM8JczGQsA"
      },
      "execution_count": null,
      "outputs": []
    },
    {
      "cell_type": "markdown",
      "source": [
        "**After getting a better understanding on the housing market in NYC, I can now make decisions on where I want to live, what type of home I want to live in. With knowing all the specifics, I can then make filter my dataframe to output housing options that would better suit me***"
      ],
      "metadata": {
        "id": "_wmB2lQWWrf9"
      }
    },
    {
      "cell_type": "code",
      "source": [
        "future = new_data2[(new_data2['LOCALITY'] == 'Brooklyn') & (new_data2['PRICE'] <1000000) & (new_data2['BEDS']>= 5)]"
      ],
      "metadata": {
        "id": "pP7l9wcTU_qb"
      },
      "execution_count": null,
      "outputs": []
    },
    {
      "cell_type": "code",
      "source": [
        "future"
      ],
      "metadata": {
        "id": "srMDMs4MWNQ2"
      },
      "execution_count": null,
      "outputs": []
    }
  ]
}